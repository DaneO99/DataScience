{
  "cells": [
    {
      "cell_type": "markdown",
      "metadata": {
        "id": "8u8VYO99Yp1N"
      },
      "source": [
        "# 📝 02 - Markdown and Formatting\n",
        "\n",
        "Jupyter notebooks are not just for code — you can mix **Markdown** and code to create clear, professional-looking reports.\n",
        "\n",
        "This notebook introduces:\n",
        "- Writing Markdown cells (headings, lists, links)\n",
        "- Adding inline **LaTeX math**\n",
        "- Embedding images\n",
        "- Why formatting matters in data science communication\n"
      ],
      "id": "8u8VYO99Yp1N"
    },
    {
      "cell_type": "markdown",
      "metadata": {
        "id": "nc_9N9CxYp1O"
      },
      "source": [
        "## 1. Headings and Text Styles"
      ],
      "id": "nc_9N9CxYp1O"
    },
    {
      "cell_type": "markdown",
      "metadata": {
        "id": "RXb6KFFYYp1O"
      },
      "source": [
        "### Example\n",
        "# Heading 1\n",
        "## Heading 2\n",
        "### Heading 3\n",
        "\n",
        "**Bold text**, *italic text*, `inline code`"
      ],
      "id": "RXb6KFFYYp1O"
    },
    {
      "cell_type": "markdown",
      "metadata": {
        "id": "oFQjlmY-Yp1O"
      },
      "source": [
        "✅ **Your Turn**: Create a cell with the heading `## My Favorite Data Tools` and list at least three tools in bold."
      ],
      "id": "oFQjlmY-Yp1O"
    },
    {
      "cell_type": "markdown",
      "metadata": {
        "id": "G8bLJeq-Yp1O"
      },
      "source": [
        "## 2. Lists"
      ],
      "id": "G8bLJeq-Yp1O"
    },
    {
      "cell_type": "markdown",
      "metadata": {
        "id": "RGAHnVChYp1O"
      },
      "source": [
        "### Example\n",
        "- Item 1\n",
        "- Item 2\n",
        "  - Sub-item 2a\n",
        "  - Sub-item 2b\n",
        "\n",
        "1. First\n",
        "2. Second\n",
        "3. Third"
      ],
      "id": "RGAHnVChYp1O"
    },
    {
      "cell_type": "markdown",
      "metadata": {
        "id": "sRnL_qOgYp1O"
      },
      "source": [
        "✅ **Your Turn**: Make an ordered list of your top 3 programming languages."
      ],
      "id": "sRnL_qOgYp1O"
    },
    {
      "cell_type": "markdown",
      "metadata": {
        "id": "cCh-BxLZYp1P"
      },
      "source": [
        "## 3. Links and Images"
      ],
      "id": "cCh-BxLZYp1P"
    },
    {
      "cell_type": "markdown",
      "metadata": {
        "id": "W5cSFTNkYp1P"
      },
      "source": [
        "### Links\n",
        "[OpenAI](https://www.openai.com)\n",
        "\n",
        "### Images\n",
        "![MSU Logo](https://upload.wikimedia.org/wikipedia/en/8/8b/Midwestern_State_University_seal.png)"
      ],
      "id": "W5cSFTNkYp1P"
    },
    {
      "cell_type": "markdown",
      "metadata": {
        "id": "2CFEr0acYp1P"
      },
      "source": [
        "✅ **Your Turn**: Insert a link to your favorite website and embed an image (can be a URL or local file)."
      ],
      "id": "2CFEr0acYp1P"
    },
    {
      "cell_type": "markdown",
      "metadata": {
        "id": "3jUQfCTYYp1P"
      },
      "source": [
        "## 4. LaTeX Math"
      ],
      "id": "3jUQfCTYYp1P"
    },
    {
      "cell_type": "markdown",
      "metadata": {
        "id": "RQwG2wUSYp1P"
      },
      "source": [
        "You can render math using LaTeX syntax inside `$ ... $` for inline or `$$ ... $$` for block math.\n",
        "\n",
        "Example:  \n",
        "Inline: $E = mc^2$  \n",
        "Block:\n",
        "$$\n",
        "\\frac{\\partial f}{\\partial x} = 2x\n",
        "$$"
      ],
      "id": "RQwG2wUSYp1P"
    },
    {
      "cell_type": "markdown",
      "metadata": {
        "id": "k6qsv_bxYp1P"
      },
      "source": [
        "✅ **Your Turn**: Write the quadratic formula in LaTeX."
      ],
      "id": "k6qsv_bxYp1P"
    },
    {
      "cell_type": "markdown",
      "metadata": {
        "id": "Vz-X2XFrYp1P"
      },
      "source": [
        "## 5. Mixing Code and Markdown"
      ],
      "id": "Vz-X2XFrYp1P"
    },
    {
      "cell_type": "code",
      "execution_count": 1,
      "metadata": {
        "id": "ha6YQPziYp1P",
        "outputId": "12676b13-c739-4cef-cd3b-4bd6f1ff8bb5",
        "colab": {
          "base_uri": "https://localhost:8080/"
        }
      },
      "outputs": [
        {
          "output_type": "execute_result",
          "data": {
            "text/plain": [
              "[1, 4, 9, 16, 25]"
            ]
          },
          "metadata": {},
          "execution_count": 1
        }
      ],
      "source": [
        "# Example: create data in Python\n",
        "numbers = [1, 2, 3, 4, 5]\n",
        "squares = [n**2 for n in numbers]\n",
        "squares"
      ],
      "id": "ha6YQPziYp1P"
    },
    {
      "cell_type": "markdown",
      "metadata": {
        "id": "Y2rHX3D9Yp1Q"
      },
      "source": [
        "Now we explain results in Markdown:\n",
        "- The list `numbers` contained 1–5.\n",
        "- The list `squares` contains each number squared.\n",
        "- Mixing narrative + results is why notebooks are so powerful."
      ],
      "id": "Y2rHX3D9Yp1Q"
    },
    {
      "cell_type": "markdown",
      "metadata": {
        "id": "nzyyktjbYp1Q"
      },
      "source": [
        "✅ **Your Turn**: Create a list of 3 numbers, calculate their cubes in code, then explain in Markdown."
      ],
      "id": "nzyyktjbYp1Q"
    },
    {
      "cell_type": "code",
      "source": [
        "numbers = [3,6,9]\n",
        "cubes = [n**3 for n in numbers]"
      ],
      "metadata": {
        "id": "wGvd6J-VYtgw"
      },
      "id": "wGvd6J-VYtgw",
      "execution_count": null,
      "outputs": []
    },
    {
      "cell_type": "markdown",
      "metadata": {
        "id": "aATc4qyuYp1Q"
      },
      "source": [
        "---\n",
        "### Summary\n",
        "- Use headings and formatting to organize.\n",
        "- Lists and links make content readable.\n",
        "- LaTeX lets you add professional math.\n",
        "- Combine code + Markdown for clear data storytelling.\n"
      ],
      "id": "aATc4qyuYp1Q"
    }
  ],
  "metadata": {
    "kernelspec": {
      "display_name": "Python 3",
      "language": "python",
      "name": "python3"
    },
    "language_info": {
      "name": "python",
      "version": "3.x"
    },
    "colab": {
      "provenance": []
    }
  },
  "nbformat": 4,
  "nbformat_minor": 5
}