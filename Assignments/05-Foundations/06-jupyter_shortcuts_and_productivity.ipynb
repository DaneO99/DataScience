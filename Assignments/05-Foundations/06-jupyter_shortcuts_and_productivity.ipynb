{
  "cells": [
    {
      "cell_type": "markdown",
      "metadata": {
        "id": "Os1N2UTkfZR1"
      },
      "source": [
        "# ⚡ 06 - Jupyter Shortcuts and Productivity\n",
        "\n",
        "Jupyter notebooks have **keyboard shortcuts and tricks** that make you faster.  \n",
        "In this notebook you will learn:\n",
        "- Command vs. Edit mode\n",
        "- Essential keyboard shortcuts\n",
        "- Saving and exporting notebooks\n",
        "- Using `%history` and `%save`\n"
      ],
      "id": "Os1N2UTkfZR1"
    },
    {
      "cell_type": "markdown",
      "metadata": {
        "id": "0w46TRLGfZR2"
      },
      "source": [
        "## 1. Modes in Jupyter"
      ],
      "id": "0w46TRLGfZR2"
    },
    {
      "cell_type": "markdown",
      "metadata": {
        "id": "g0aLYIxFfZR2"
      },
      "source": [
        "- **Edit mode** (green border, type in cell)\n",
        "- **Command mode** (blue border, issue commands on the notebook)\n",
        "\n",
        "Switch:\n",
        "- Press `Enter` → Edit mode\n",
        "- Press `Esc` → Command mode"
      ],
      "id": "g0aLYIxFfZR2"
    },
    {
      "cell_type": "markdown",
      "metadata": {
        "id": "PI_c4_2tfZR2"
      },
      "source": [
        "✅ **Your Turn**: Try switching between Edit and Command mode and notice the border color."
      ],
      "id": "PI_c4_2tfZR2"
    },
    {
      "cell_type": "markdown",
      "metadata": {
        "id": "1T8s4LlIfZR2"
      },
      "source": [
        "## 2. Common Shortcuts"
      ],
      "id": "1T8s4LlIfZR2"
    },
    {
      "cell_type": "markdown",
      "metadata": {
        "id": "GjYPcZNdfZR2"
      },
      "source": [
        "- `A` → Insert cell Above\n",
        "- `B` → Insert cell Below\n",
        "- `D D` → Delete a cell\n",
        "- `M` → Change to Markdown cell\n",
        "- `Y` → Change to Code cell\n",
        "- `Shift + Enter` → Run cell and move to next\n",
        "- `Ctrl + Enter` → Run cell, stay put\n",
        "- `Alt + Enter` → Run cell and insert new one below"
      ],
      "id": "GjYPcZNdfZR2"
    },
    {
      "cell_type": "markdown",
      "metadata": {
        "id": "Lj39faClfZR2"
      },
      "source": [
        "✅ **Your Turn**: Practice creating, deleting, and changing cell types using only shortcuts."
      ],
      "id": "Lj39faClfZR2"
    },
    {
      "cell_type": "markdown",
      "metadata": {
        "id": "CPaWDf9kfZR2"
      },
      "source": [
        "## 3. Saving and Exporting"
      ],
      "id": "CPaWDf9kfZR2"
    },
    {
      "cell_type": "markdown",
      "metadata": {
        "id": "wsx_rI2UfZR2"
      },
      "source": [
        "- `Ctrl + S` (or `Cmd + S` on Mac) → Save notebook\n",
        "- Menu: *File → Download as…* → export to `.py`, `.html`, or `.pdf`\n",
        "- GitHub + Colab workflow: commit changes back to your repo directly"
      ],
      "id": "wsx_rI2UfZR2"
    },
    {
      "cell_type": "markdown",
      "metadata": {
        "id": "pAfNLIamfZR2"
      },
      "source": [
        "✅ **Your Turn**: Save this notebook, then try exporting to `.py` or `.html` from the File menu."
      ],
      "id": "pAfNLIamfZR2"
    },
    {
      "cell_type": "code",
      "source": [],
      "metadata": {
        "id": "2w2B-VVWfqLm"
      },
      "id": "2w2B-VVWfqLm",
      "execution_count": null,
      "outputs": []
    },
    {
      "cell_type": "markdown",
      "metadata": {
        "id": "g_z7BL0AfZR3"
      },
      "source": [
        "## 4. History and Saving Code"
      ],
      "id": "g_z7BL0AfZR3"
    },
    {
      "cell_type": "code",
      "execution_count": null,
      "metadata": {
        "id": "ftlQdBLkfZR3"
      },
      "outputs": [],
      "source": [
        "%history -n 1-5  # Show the first 5 commands in this session"
      ],
      "id": "ftlQdBLkfZR3"
    },
    {
      "cell_type": "code",
      "execution_count": null,
      "metadata": {
        "id": "0GpzGOgefZR3"
      },
      "outputs": [],
      "source": [
        "# Save history to a file\n",
        "%save my_session.py 1-5"
      ],
      "id": "0GpzGOgefZR3"
    },
    {
      "cell_type": "markdown",
      "metadata": {
        "id": "kLAKE12-fZR3"
      },
      "source": [
        "✅ **Your Turn**: Use `%history` to view the last 10 commands you ran, then save them to `last10.py`."
      ],
      "id": "kLAKE12-fZR3"
    },
    {
      "cell_type": "code",
      "source": [
        "%history -n 1-10\n",
        "%save last10.py 1-10"
      ],
      "metadata": {
        "id": "SvTNGl_mffLe",
        "outputId": "140607aa-1341-444b-bdb8-f5e0e12570fe",
        "colab": {
          "base_uri": "https://localhost:8080/"
        }
      },
      "id": "SvTNGl_mffLe",
      "execution_count": 1,
      "outputs": [
        {
          "output_type": "stream",
          "name": "stdout",
          "text": [
            "   1:\n",
            "%history -n 1-10\n",
            "%save last10.py 1-10\n",
            "The following commands were written to file `last10.py`:\n",
            "get_ipython().run_line_magic('history', '-n 1-10')\n",
            "get_ipython().run_line_magic('save', 'last10.py 1-10')\n"
          ]
        }
      ]
    },
    {
      "cell_type": "markdown",
      "metadata": {
        "id": "wGaZGYZbfZR3"
      },
      "source": [
        "---\n",
        "### Summary\n",
        "- Command vs Edit mode controls how you interact with cells.\n",
        "- Shortcuts make notebook use much faster.\n",
        "- You can export notebooks to share or turn them into scripts.\n",
        "- `%history` and `%save` help you capture your work.\n"
      ],
      "id": "wGaZGYZbfZR3"
    }
  ],
  "metadata": {
    "kernelspec": {
      "display_name": "Python 3",
      "language": "python",
      "name": "python3"
    },
    "language_info": {
      "name": "python",
      "version": "3.x"
    },
    "colab": {
      "provenance": []
    }
  },
  "nbformat": 4,
  "nbformat_minor": 5
}