{
  "cells": [
    {
      "cell_type": "markdown",
      "metadata": {
        "id": "o1RxtPYda1J8"
      },
      "source": [
        "# 📊 04 - Data Input and Output\n",
        "\n",
        "Most of data science is about **loading data, exploring it, and saving results**.  \n",
        "In this notebook you will learn:\n",
        "- Reading CSV files with Pandas\n",
        "- Inspecting DataFrames (`head`, `info`, `describe`)\n",
        "- Writing data back to CSV\n",
        "- Reading Excel files (if available)\n"
      ],
      "id": "o1RxtPYda1J8"
    },
    {
      "cell_type": "markdown",
      "metadata": {
        "id": "9qWKfOlRa1J9"
      },
      "source": [
        "## 1. Reading CSV Files"
      ],
      "id": "9qWKfOlRa1J9"
    },
    {
      "cell_type": "code",
      "execution_count": null,
      "metadata": {
        "id": "I50FPs6ga1J9"
      },
      "outputs": [],
      "source": [
        "import pandas as pd\n",
        "\n",
        "# Create a small CSV for demo\n",
        "data = \"\"\"Name,Age,Score\n",
        "Alice,23,90\n",
        "Bob,25,85\n",
        "Charlie,22,95\n",
        "\"\"\"\n",
        "with open(\"students.csv\", \"w\") as f:\n",
        "    f.write(data)\n",
        "\n",
        "# Read CSV into DataFrame\n",
        "df = pd.read_csv(\"students.csv\")\n",
        "df"
      ],
      "id": "I50FPs6ga1J9"
    },
    {
      "cell_type": "markdown",
      "metadata": {
        "id": "4CCLYzAAa1J9"
      },
      "source": [
        "✅ **Your Turn**: Create your own small CSV (3–5 rows) and read it into Pandas."
      ],
      "id": "4CCLYzAAa1J9"
    },
    {
      "cell_type": "markdown",
      "metadata": {
        "id": "ITPiaV89a1J9"
      },
      "source": [
        "## 2. Exploring DataFrames"
      ],
      "id": "ITPiaV89a1J9"
    },
    {
      "cell_type": "code",
      "execution_count": null,
      "metadata": {
        "id": "bk6l0RpKa1J9"
      },
      "outputs": [],
      "source": [
        "# Look at the first rows\n",
        "df.head()"
      ],
      "id": "bk6l0RpKa1J9"
    },
    {
      "cell_type": "code",
      "execution_count": null,
      "metadata": {
        "id": "dwGkmhUua1J9"
      },
      "outputs": [],
      "source": [
        "# Info about columns and data types\n",
        "df.info()"
      ],
      "id": "dwGkmhUua1J9"
    },
    {
      "cell_type": "code",
      "execution_count": null,
      "metadata": {
        "id": "MmMf_WfZa1J-"
      },
      "outputs": [],
      "source": [
        "# Summary statistics\n",
        "df.describe()"
      ],
      "id": "MmMf_WfZa1J-"
    },
    {
      "cell_type": "markdown",
      "metadata": {
        "id": "r0ZfQ9RUa1J-"
      },
      "source": [
        "✅ **Your Turn**: Use `.head()` to preview your dataset and `.describe()` to see basic statistics."
      ],
      "id": "r0ZfQ9RUa1J-"
    },
    {
      "cell_type": "markdown",
      "metadata": {
        "id": "ISFD1WQma1J-"
      },
      "source": [
        "## 3. Writing CSV Files"
      ],
      "id": "ISFD1WQma1J-"
    },
    {
      "cell_type": "code",
      "execution_count": null,
      "metadata": {
        "id": "2888-Gmsa1J-"
      },
      "outputs": [],
      "source": [
        "# Save the DataFrame to a new CSV\n",
        "df.to_csv(\"students_copy.csv\", index=False)\n",
        "%ls *.csv"
      ],
      "id": "2888-Gmsa1J-"
    },
    {
      "cell_type": "markdown",
      "metadata": {
        "id": "h30eWq_ba1J-"
      },
      "source": [
        "✅ **Your Turn**: Save your DataFrame to a CSV file called `my_data.csv`."
      ],
      "id": "h30eWq_ba1J-"
    },
    {
      "cell_type": "markdown",
      "metadata": {
        "id": "ixmkkOLWa1J-"
      },
      "source": [
        "## 4. Reading Excel Files"
      ],
      "id": "ixmkkOLWa1J-"
    },
    {
      "cell_type": "code",
      "execution_count": null,
      "metadata": {
        "id": "0x7XvqRxa1J-"
      },
      "outputs": [],
      "source": [
        "# Optional: Requires 'openpyxl' installed\n",
        "# Save to Excel\n",
        "df.to_excel(\"students.xlsx\", index=False)\n",
        "\n",
        "# Read Excel file\n",
        "pd.read_excel(\"students.xlsx\")"
      ],
      "id": "0x7XvqRxa1J-"
    },
    {
      "cell_type": "markdown",
      "metadata": {
        "id": "fVAm8zAXa1J-"
      },
      "source": [
        "✅ **Your Turn**: Try saving your dataset to Excel and reading it back (if supported in your environment)."
      ],
      "id": "fVAm8zAXa1J-"
    },
    {
      "cell_type": "code",
      "source": [
        "import pandas as pd\n",
        "\n",
        "# Create a small DataFrame for demo\n",
        "data = {'col1': [1, 2], 'col2': [3, 4]}\n",
        "df = pd.DataFrame(data)\n",
        "\n",
        "df.to_excel('data.xlsx' , index = False)\n",
        "\n",
        "pd.read_excel(\"data.xlsx\")"
      ],
      "metadata": {
        "colab": {
          "base_uri": "https://localhost:8080/",
          "height": 111
        },
        "id": "WI07RAYha66F",
        "outputId": "578c6f70-34a8-4c22-9a81-7a30330383c2"
      },
      "id": "WI07RAYha66F",
      "execution_count": 2,
      "outputs": [
        {
          "output_type": "execute_result",
          "data": {
            "text/plain": [
              "   col1  col2\n",
              "0     1     3\n",
              "1     2     4"
            ],
            "text/html": [
              "\n",
              "  <div id=\"df-f1762350-9a21-4013-9257-4fb93b61b62c\" class=\"colab-df-container\">\n",
              "    <div>\n",
              "<style scoped>\n",
              "    .dataframe tbody tr th:only-of-type {\n",
              "        vertical-align: middle;\n",
              "    }\n",
              "\n",
              "    .dataframe tbody tr th {\n",
              "        vertical-align: top;\n",
              "    }\n",
              "\n",
              "    .dataframe thead th {\n",
              "        text-align: right;\n",
              "    }\n",
              "</style>\n",
              "<table border=\"1\" class=\"dataframe\">\n",
              "  <thead>\n",
              "    <tr style=\"text-align: right;\">\n",
              "      <th></th>\n",
              "      <th>col1</th>\n",
              "      <th>col2</th>\n",
              "    </tr>\n",
              "  </thead>\n",
              "  <tbody>\n",
              "    <tr>\n",
              "      <th>0</th>\n",
              "      <td>1</td>\n",
              "      <td>3</td>\n",
              "    </tr>\n",
              "    <tr>\n",
              "      <th>1</th>\n",
              "      <td>2</td>\n",
              "      <td>4</td>\n",
              "    </tr>\n",
              "  </tbody>\n",
              "</table>\n",
              "</div>\n",
              "    <div class=\"colab-df-buttons\">\n",
              "\n",
              "  <div class=\"colab-df-container\">\n",
              "    <button class=\"colab-df-convert\" onclick=\"convertToInteractive('df-f1762350-9a21-4013-9257-4fb93b61b62c')\"\n",
              "            title=\"Convert this dataframe to an interactive table.\"\n",
              "            style=\"display:none;\">\n",
              "\n",
              "  <svg xmlns=\"http://www.w3.org/2000/svg\" height=\"24px\" viewBox=\"0 -960 960 960\">\n",
              "    <path d=\"M120-120v-720h720v720H120Zm60-500h600v-160H180v160Zm220 220h160v-160H400v160Zm0 220h160v-160H400v160ZM180-400h160v-160H180v160Zm440 0h160v-160H620v160ZM180-180h160v-160H180v160Zm440 0h160v-160H620v160Z\"/>\n",
              "  </svg>\n",
              "    </button>\n",
              "\n",
              "  <style>\n",
              "    .colab-df-container {\n",
              "      display:flex;\n",
              "      gap: 12px;\n",
              "    }\n",
              "\n",
              "    .colab-df-convert {\n",
              "      background-color: #E8F0FE;\n",
              "      border: none;\n",
              "      border-radius: 50%;\n",
              "      cursor: pointer;\n",
              "      display: none;\n",
              "      fill: #1967D2;\n",
              "      height: 32px;\n",
              "      padding: 0 0 0 0;\n",
              "      width: 32px;\n",
              "    }\n",
              "\n",
              "    .colab-df-convert:hover {\n",
              "      background-color: #E2EBFA;\n",
              "      box-shadow: 0px 1px 2px rgba(60, 64, 67, 0.3), 0px 1px 3px 1px rgba(60, 64, 67, 0.15);\n",
              "      fill: #174EA6;\n",
              "    }\n",
              "\n",
              "    .colab-df-buttons div {\n",
              "      margin-bottom: 4px;\n",
              "    }\n",
              "\n",
              "    [theme=dark] .colab-df-convert {\n",
              "      background-color: #3B4455;\n",
              "      fill: #D2E3FC;\n",
              "    }\n",
              "\n",
              "    [theme=dark] .colab-df-convert:hover {\n",
              "      background-color: #434B5C;\n",
              "      box-shadow: 0px 1px 3px 1px rgba(0, 0, 0, 0.15);\n",
              "      filter: drop-shadow(0px 1px 2px rgba(0, 0, 0, 0.3));\n",
              "      fill: #FFFFFF;\n",
              "    }\n",
              "  </style>\n",
              "\n",
              "    <script>\n",
              "      const buttonEl =\n",
              "        document.querySelector('#df-f1762350-9a21-4013-9257-4fb93b61b62c button.colab-df-convert');\n",
              "      buttonEl.style.display =\n",
              "        google.colab.kernel.accessAllowed ? 'block' : 'none';\n",
              "\n",
              "      async function convertToInteractive(key) {\n",
              "        const element = document.querySelector('#df-f1762350-9a21-4013-9257-4fb93b61b62c');\n",
              "        const dataTable =\n",
              "          await google.colab.kernel.invokeFunction('convertToInteractive',\n",
              "                                                    [key], {});\n",
              "        if (!dataTable) return;\n",
              "\n",
              "        const docLinkHtml = 'Like what you see? Visit the ' +\n",
              "          '<a target=\"_blank\" href=https://colab.research.google.com/notebooks/data_table.ipynb>data table notebook</a>'\n",
              "          + ' to learn more about interactive tables.';\n",
              "        element.innerHTML = '';\n",
              "        dataTable['output_type'] = 'display_data';\n",
              "        await google.colab.output.renderOutput(dataTable, element);\n",
              "        const docLink = document.createElement('div');\n",
              "        docLink.innerHTML = docLinkHtml;\n",
              "        element.appendChild(docLink);\n",
              "      }\n",
              "    </script>\n",
              "  </div>\n",
              "\n",
              "\n",
              "    <div id=\"df-a083ecb9-5d0d-4134-be7b-2a51813b9ca1\">\n",
              "      <button class=\"colab-df-quickchart\" onclick=\"quickchart('df-a083ecb9-5d0d-4134-be7b-2a51813b9ca1')\"\n",
              "                title=\"Suggest charts\"\n",
              "                style=\"display:none;\">\n",
              "\n",
              "<svg xmlns=\"http://www.w3.org/2000/svg\" height=\"24px\"viewBox=\"0 0 24 24\"\n",
              "     width=\"24px\">\n",
              "    <g>\n",
              "        <path d=\"M19 3H5c-1.1 0-2 .9-2 2v14c0 1.1.9 2 2 2h14c1.1 0 2-.9 2-2V5c0-1.1-.9-2-2-2zM9 17H7v-7h2v7zm4 0h-2V7h2v10zm4 0h-2v-4h2v4z\"/>\n",
              "    </g>\n",
              "</svg>\n",
              "      </button>\n",
              "\n",
              "<style>\n",
              "  .colab-df-quickchart {\n",
              "      --bg-color: #E8F0FE;\n",
              "      --fill-color: #1967D2;\n",
              "      --hover-bg-color: #E2EBFA;\n",
              "      --hover-fill-color: #174EA6;\n",
              "      --disabled-fill-color: #AAA;\n",
              "      --disabled-bg-color: #DDD;\n",
              "  }\n",
              "\n",
              "  [theme=dark] .colab-df-quickchart {\n",
              "      --bg-color: #3B4455;\n",
              "      --fill-color: #D2E3FC;\n",
              "      --hover-bg-color: #434B5C;\n",
              "      --hover-fill-color: #FFFFFF;\n",
              "      --disabled-bg-color: #3B4455;\n",
              "      --disabled-fill-color: #666;\n",
              "  }\n",
              "\n",
              "  .colab-df-quickchart {\n",
              "    background-color: var(--bg-color);\n",
              "    border: none;\n",
              "    border-radius: 50%;\n",
              "    cursor: pointer;\n",
              "    display: none;\n",
              "    fill: var(--fill-color);\n",
              "    height: 32px;\n",
              "    padding: 0;\n",
              "    width: 32px;\n",
              "  }\n",
              "\n",
              "  .colab-df-quickchart:hover {\n",
              "    background-color: var(--hover-bg-color);\n",
              "    box-shadow: 0 1px 2px rgba(60, 64, 67, 0.3), 0 1px 3px 1px rgba(60, 64, 67, 0.15);\n",
              "    fill: var(--button-hover-fill-color);\n",
              "  }\n",
              "\n",
              "  .colab-df-quickchart-complete:disabled,\n",
              "  .colab-df-quickchart-complete:disabled:hover {\n",
              "    background-color: var(--disabled-bg-color);\n",
              "    fill: var(--disabled-fill-color);\n",
              "    box-shadow: none;\n",
              "  }\n",
              "\n",
              "  .colab-df-spinner {\n",
              "    border: 2px solid var(--fill-color);\n",
              "    border-color: transparent;\n",
              "    border-bottom-color: var(--fill-color);\n",
              "    animation:\n",
              "      spin 1s steps(1) infinite;\n",
              "  }\n",
              "\n",
              "  @keyframes spin {\n",
              "    0% {\n",
              "      border-color: transparent;\n",
              "      border-bottom-color: var(--fill-color);\n",
              "      border-left-color: var(--fill-color);\n",
              "    }\n",
              "    20% {\n",
              "      border-color: transparent;\n",
              "      border-left-color: var(--fill-color);\n",
              "      border-top-color: var(--fill-color);\n",
              "    }\n",
              "    30% {\n",
              "      border-color: transparent;\n",
              "      border-left-color: var(--fill-color);\n",
              "      border-top-color: var(--fill-color);\n",
              "      border-right-color: var(--fill-color);\n",
              "    }\n",
              "    40% {\n",
              "      border-color: transparent;\n",
              "      border-right-color: var(--fill-color);\n",
              "      border-top-color: var(--fill-color);\n",
              "    }\n",
              "    60% {\n",
              "      border-color: transparent;\n",
              "      border-right-color: var(--fill-color);\n",
              "    }\n",
              "    80% {\n",
              "      border-color: transparent;\n",
              "      border-right-color: var(--fill-color);\n",
              "      border-bottom-color: var(--fill-color);\n",
              "    }\n",
              "    90% {\n",
              "      border-color: transparent;\n",
              "      border-bottom-color: var(--fill-color);\n",
              "    }\n",
              "  }\n",
              "</style>\n",
              "\n",
              "      <script>\n",
              "        async function quickchart(key) {\n",
              "          const quickchartButtonEl =\n",
              "            document.querySelector('#' + key + ' button');\n",
              "          quickchartButtonEl.disabled = true;  // To prevent multiple clicks.\n",
              "          quickchartButtonEl.classList.add('colab-df-spinner');\n",
              "          try {\n",
              "            const charts = await google.colab.kernel.invokeFunction(\n",
              "                'suggestCharts', [key], {});\n",
              "          } catch (error) {\n",
              "            console.error('Error during call to suggestCharts:', error);\n",
              "          }\n",
              "          quickchartButtonEl.classList.remove('colab-df-spinner');\n",
              "          quickchartButtonEl.classList.add('colab-df-quickchart-complete');\n",
              "        }\n",
              "        (() => {\n",
              "          let quickchartButtonEl =\n",
              "            document.querySelector('#df-a083ecb9-5d0d-4134-be7b-2a51813b9ca1 button');\n",
              "          quickchartButtonEl.style.display =\n",
              "            google.colab.kernel.accessAllowed ? 'block' : 'none';\n",
              "        })();\n",
              "      </script>\n",
              "    </div>\n",
              "\n",
              "    </div>\n",
              "  </div>\n"
            ],
            "application/vnd.google.colaboratory.intrinsic+json": {
              "type": "dataframe",
              "summary": "{\n  \"name\": \"pd\",\n  \"rows\": 2,\n  \"fields\": [\n    {\n      \"column\": \"col1\",\n      \"properties\": {\n        \"dtype\": \"number\",\n        \"std\": 0,\n        \"min\": 1,\n        \"max\": 2,\n        \"num_unique_values\": 2,\n        \"samples\": [\n          2,\n          1\n        ],\n        \"semantic_type\": \"\",\n        \"description\": \"\"\n      }\n    },\n    {\n      \"column\": \"col2\",\n      \"properties\": {\n        \"dtype\": \"number\",\n        \"std\": 0,\n        \"min\": 3,\n        \"max\": 4,\n        \"num_unique_values\": 2,\n        \"samples\": [\n          4,\n          3\n        ],\n        \"semantic_type\": \"\",\n        \"description\": \"\"\n      }\n    }\n  ]\n}"
            }
          },
          "metadata": {},
          "execution_count": 2
        }
      ]
    },
    {
      "cell_type": "markdown",
      "metadata": {
        "id": "tnMiSEr7a1J-"
      },
      "source": [
        "---\n",
        "### Summary\n",
        "- `pd.read_csv` loads data into a DataFrame.\n",
        "- Use `.head()`, `.info()`, `.describe()` to explore quickly.\n",
        "- `df.to_csv` and `df.to_excel` save results.\n",
        "- Pandas makes file I/O simple and reliable.\n"
      ],
      "id": "tnMiSEr7a1J-"
    }
  ],
  "metadata": {
    "kernelspec": {
      "display_name": "Python 3",
      "language": "python",
      "name": "python3"
    },
    "language_info": {
      "name": "python",
      "version": "3.x"
    },
    "colab": {
      "provenance": []
    }
  },
  "nbformat": 4,
  "nbformat_minor": 5
}