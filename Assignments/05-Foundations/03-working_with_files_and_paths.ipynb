{
  "cells": [
    {
      "cell_type": "markdown",
      "metadata": {
        "id": "M23fO6m8ZrEu"
      },
      "source": [
        "# 📂 03 - Working with Files and Paths\n",
        "\n",
        "Data science means working with files all the time: datasets, config files, logs.  \n",
        "This notebook introduces:\n",
        "- Checking your current path in Jupyter\n",
        "- Navigating directories\n",
        "- Reading and writing text files\n",
        "- Using `with` for safe file handling\n",
        "- Basics of JSON and CSV I/O\n"
      ],
      "id": "M23fO6m8ZrEu"
    },
    {
      "cell_type": "markdown",
      "metadata": {
        "id": "27HfQmH0ZrEw"
      },
      "source": [
        "## 1. Where Am I?"
      ],
      "id": "27HfQmH0ZrEw"
    },
    {
      "cell_type": "code",
      "execution_count": null,
      "metadata": {
        "id": "YnNzdxwkZrEw"
      },
      "outputs": [],
      "source": [
        "%pwd  # Print current working directory"
      ],
      "id": "YnNzdxwkZrEw"
    },
    {
      "cell_type": "code",
      "execution_count": null,
      "metadata": {
        "id": "0dAPgi1RZrEx"
      },
      "outputs": [],
      "source": [
        "%ls  # List files in the current directory"
      ],
      "id": "0dAPgi1RZrEx"
    },
    {
      "cell_type": "code",
      "execution_count": null,
      "metadata": {
        "id": "PdnIP1NpZrEx"
      },
      "outputs": [],
      "source": [
        "%cd ..  # Change to parent directory\n",
        "%pwd"
      ],
      "id": "PdnIP1NpZrEx"
    },
    {
      "cell_type": "markdown",
      "metadata": {
        "id": "Zf1CNPaiZrEx"
      },
      "source": [
        "✅ **Your Turn**: Navigate into a subfolder of your repo (e.g., `Foundations/`) and list its contents."
      ],
      "id": "Zf1CNPaiZrEx"
    },
    {
      "cell_type": "markdown",
      "metadata": {
        "id": "zMI-jh12ZrEx"
      },
      "source": [
        "## 2. Writing and Reading Text Files"
      ],
      "id": "zMI-jh12ZrEx"
    },
    {
      "cell_type": "code",
      "execution_count": null,
      "metadata": {
        "id": "jOIrDUoOZrEx"
      },
      "outputs": [],
      "source": [
        "# Writing to a text file\n",
        "with open(\"example.txt\", \"w\") as f:\n",
        "    f.write(\"Hello, Jupyter!\\n\")\n",
        "    f.write(\"This is a text file.\\n\")"
      ],
      "id": "jOIrDUoOZrEx"
    },
    {
      "cell_type": "code",
      "execution_count": null,
      "metadata": {
        "id": "4CUMZyLPZrEx"
      },
      "outputs": [],
      "source": [
        "# Reading from a text file\n",
        "with open(\"example.txt\", \"r\") as f:\n",
        "    contents = f.read()\n",
        "contents"
      ],
      "id": "4CUMZyLPZrEx"
    },
    {
      "cell_type": "markdown",
      "metadata": {
        "id": "c58863AGZrEy"
      },
      "source": [
        "✅ **Your Turn**: Write your name into a file called `me.txt`, then read it back and print the result."
      ],
      "id": "c58863AGZrEy"
    },
    {
      "cell_type": "markdown",
      "metadata": {
        "id": "F2RBV-hUZrEy"
      },
      "source": [
        "## 3. JSON Files"
      ],
      "id": "F2RBV-hUZrEy"
    },
    {
      "cell_type": "code",
      "execution_count": null,
      "metadata": {
        "id": "PkACmjwzZrEy"
      },
      "outputs": [],
      "source": [
        "import json\n",
        "\n",
        "data = {\"name\": \"Graylian\", \"type\": \"mascot\", \"skills\": [\"howl\", \"parrot talk\"]}\n",
        "\n",
        "# Write JSON\n",
        "with open(\"data.json\", \"w\") as f:\n",
        "    json.dump(data, f)\n",
        "\n",
        "# Read JSON\n",
        "with open(\"data.json\", \"r\") as f:\n",
        "    loaded = json.load(f)\n",
        "loaded"
      ],
      "id": "PkACmjwzZrEy"
    },
    {
      "cell_type": "markdown",
      "metadata": {
        "id": "vAzwAVdCZrEy"
      },
      "source": [
        "✅ **Your Turn**: Create a dictionary with your name and 2-3 favorite courses. Save it to `courses.json`, then read it back."
      ],
      "id": "vAzwAVdCZrEy"
    },
    {
      "cell_type": "markdown",
      "metadata": {
        "id": "L2NGZNPvZrEy"
      },
      "source": [
        "## 4. CSV Files"
      ],
      "id": "L2NGZNPvZrEy"
    },
    {
      "cell_type": "code",
      "execution_count": null,
      "metadata": {
        "id": "eHwSZgg7ZrEy"
      },
      "outputs": [],
      "source": [
        "import csv\n",
        "\n",
        "# Writing CSV\n",
        "rows = [[\"Name\", \"Score\"], [\"Alice\", 90], [\"Bob\", 85]]\n",
        "with open(\"scores.csv\", \"w\", newline=\"\") as f:\n",
        "    writer = csv.writer(f)\n",
        "    writer.writerows(rows)\n",
        "\n",
        "# Reading CSV\n",
        "with open(\"scores.csv\", \"r\") as f:\n",
        "    reader = csv.reader(f)\n",
        "    for row in reader:\n",
        "        print(row)"
      ],
      "id": "eHwSZgg7ZrEy"
    },
    {
      "cell_type": "markdown",
      "metadata": {
        "id": "7g5PrOWOZrEy"
      },
      "source": [
        "✅ **Your Turn**: Create a CSV with 3 rows of your own data (e.g., pets, grades, or hobbies). Read it back and display the rows."
      ],
      "id": "7g5PrOWOZrEy"
    },
    {
      "cell_type": "code",
      "source": [
        "import csv\n",
        "rows = [['Name','Pets','Hobbies'], ['Dane Fitzgerald', 'Whiskey' , 'Golf']]\n",
        "with open(\"data.csv\", \"w\", newline=\"\") as f:\n",
        "  writer = csv.writer(f)\n",
        "  writer.writerows(rows)\n",
        "\n",
        "with open(\"data.csv\" , \"r\") as f:\n",
        "  reader = csv.reader(f)\n",
        "  for row in reader:\n",
        "      print(row)"
      ],
      "metadata": {
        "id": "91F_cdX7ZulP",
        "outputId": "f6ef97f4-e868-47cd-a7aa-eeb26ab16c53",
        "colab": {
          "base_uri": "https://localhost:8080/"
        }
      },
      "id": "91F_cdX7ZulP",
      "execution_count": 4,
      "outputs": [
        {
          "output_type": "stream",
          "name": "stdout",
          "text": [
            "['Name', 'Pets', 'Hobbies']\n",
            "['Dane Fitzgerald', 'Whiskey', 'Golf']\n"
          ]
        }
      ]
    },
    {
      "cell_type": "markdown",
      "metadata": {
        "id": "1G3KNYgOZrEy"
      },
      "source": [
        "---\n",
        "### Summary\n",
        "- `%pwd`, `%ls`, `%cd` show you where you are in the filesystem.\n",
        "- Use `with open(...)` to safely read/write files.\n",
        "- JSON is for structured data (key/value).\n",
        "- CSV is for tabular data (rows/columns).\n",
        "- Managing files is step 1 in any real data science project.\n"
      ],
      "id": "1G3KNYgOZrEy"
    }
  ],
  "metadata": {
    "kernelspec": {
      "display_name": "Python 3",
      "language": "python",
      "name": "python3"
    },
    "language_info": {
      "name": "python",
      "version": "3.x"
    },
    "colab": {
      "provenance": []
    }
  },
  "nbformat": 4,
  "nbformat_minor": 5
}