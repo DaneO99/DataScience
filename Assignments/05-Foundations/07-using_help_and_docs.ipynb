{
  "cells": [
    {
      "cell_type": "markdown",
      "metadata": {
        "id": "8Y6rN6yWoRGq"
      },
      "source": [
        "# 📚 07 - Using Help and Documentation\n",
        "\n",
        "One of the most important skills in programming is knowing **how to get help**.  \n",
        "Jupyter/IPython make it easy to explore functions, classes, and objects.\n",
        "\n",
        "In this notebook you will learn:\n",
        "- Using `?` and `??` to view docstrings and source code\n",
        "- The built-in `help()` function\n",
        "- Tab completion for attributes and methods\n",
        "- Accessing external documentation\n"
      ],
      "id": "8Y6rN6yWoRGq"
    },
    {
      "cell_type": "markdown",
      "metadata": {
        "id": "v8Kz6XKEoRGr"
      },
      "source": [
        "## 1. Using `?` for Quick Help"
      ],
      "id": "v8Kz6XKEoRGr"
    },
    {
      "cell_type": "code",
      "execution_count": null,
      "metadata": {
        "id": "pYzhHKlRoRGr"
      },
      "outputs": [],
      "source": [
        "len?  # Show help for the built-in len() function"
      ],
      "id": "pYzhHKlRoRGr"
    },
    {
      "cell_type": "code",
      "execution_count": null,
      "metadata": {
        "id": "Nl_J_2UjoRGs"
      },
      "outputs": [],
      "source": [
        "print?  # Show help for print()"
      ],
      "id": "Nl_J_2UjoRGs"
    },
    {
      "cell_type": "markdown",
      "metadata": {
        "id": "cH7-j_aaoRGs"
      },
      "source": [
        "✅ **Your Turn**: Use `?` to check the documentation for `range` and `dict`."
      ],
      "id": "cH7-j_aaoRGs"
    },
    {
      "cell_type": "code",
      "source": [
        "range?\n",
        "dict?"
      ],
      "metadata": {
        "id": "cOCwEmsYpB3I"
      },
      "id": "cOCwEmsYpB3I",
      "execution_count": 6,
      "outputs": []
    },
    {
      "cell_type": "markdown",
      "metadata": {
        "id": "QEa8s7kIoRGs"
      },
      "source": [
        "## 2. Using `??` for Source Code (if available)"
      ],
      "id": "QEa8s7kIoRGs"
    },
    {
      "cell_type": "code",
      "execution_count": null,
      "metadata": {
        "id": "L_iAw-ZDoRGs"
      },
      "outputs": [],
      "source": [
        "sum??  # Try to view source code for sum()"
      ],
      "id": "L_iAw-ZDoRGs"
    },
    {
      "cell_type": "markdown",
      "metadata": {
        "id": "ELxb8objoRGs"
      },
      "source": [
        "✅ **Your Turn**: Use `??` on `pd.read_csv` (after importing pandas) to see if you can view more details."
      ],
      "id": "ELxb8objoRGs"
    },
    {
      "cell_type": "code",
      "source": [
        "import pandas as pd\n",
        "pd.read_csv??"
      ],
      "metadata": {
        "id": "9m3Mo0wFo2YP"
      },
      "id": "9m3Mo0wFo2YP",
      "execution_count": 5,
      "outputs": []
    },
    {
      "cell_type": "markdown",
      "metadata": {
        "id": "TLR2i_5DoRGs"
      },
      "source": [
        "## 3. The `help()` Function"
      ],
      "id": "TLR2i_5DoRGs"
    },
    {
      "cell_type": "code",
      "execution_count": null,
      "metadata": {
        "id": "mrC27-o2oRGt"
      },
      "outputs": [],
      "source": [
        "help(len)"
      ],
      "id": "mrC27-o2oRGt"
    },
    {
      "cell_type": "code",
      "execution_count": null,
      "metadata": {
        "id": "v80m3OsjoRGt"
      },
      "outputs": [],
      "source": [
        "import math\n",
        "help(math.sqrt)"
      ],
      "id": "v80m3OsjoRGt"
    },
    {
      "cell_type": "markdown",
      "metadata": {
        "id": "iQekzMQ1oRGt"
      },
      "source": [
        "✅ **Your Turn**: Use `help()` to explore `list.append` or `str.upper`."
      ],
      "id": "iQekzMQ1oRGt"
    },
    {
      "cell_type": "markdown",
      "metadata": {
        "id": "bubWLkg1oRGt"
      },
      "source": [
        "## 4. Tab Completion"
      ],
      "id": "bubWLkg1oRGt"
    },
    {
      "cell_type": "markdown",
      "metadata": {
        "id": "FTKkRsevoRGt"
      },
      "source": [
        "In a Jupyter cell, type an object name followed by a dot and press `Tab` to see available methods.\n",
        "\n",
        "Example:\n",
        "```python\n",
        "mylist = []\n",
        "mylist.<TAB>\n",
        "```\n",
        "will show you all methods like `append`, `clear`, `copy`, etc."
      ],
      "id": "FTKkRsevoRGt"
    },
    {
      "cell_type": "markdown",
      "metadata": {
        "id": "rXRDZdjMoRGt"
      },
      "source": [
        "✅ **Your Turn**: Create a dictionary and use tab completion to explore its methods."
      ],
      "id": "rXRDZdjMoRGt"
    },
    {
      "cell_type": "code",
      "source": [
        "mydict = {}"
      ],
      "metadata": {
        "colab": {
          "base_uri": "https://localhost:8080/",
          "height": 105
        },
        "id": "v5mW4YjQoTpp",
        "outputId": "b676265e-3ef6-4a6f-c1f7-82be7f4ceb2a"
      },
      "id": "v5mW4YjQoTpp",
      "execution_count": 1,
      "outputs": [
        {
          "output_type": "error",
          "ename": "SyntaxError",
          "evalue": "invalid syntax (ipython-input-1966074660.py, line 2)",
          "traceback": [
            "\u001b[0;36m  File \u001b[0;32m\"/tmp/ipython-input-1966074660.py\"\u001b[0;36m, line \u001b[0;32m2\u001b[0m\n\u001b[0;31m    mydict.<TAB>\u001b[0m\n\u001b[0m           ^\u001b[0m\n\u001b[0;31mSyntaxError\u001b[0m\u001b[0;31m:\u001b[0m invalid syntax\n"
          ]
        }
      ]
    },
    {
      "cell_type": "markdown",
      "metadata": {
        "id": "S0hjvgSsoRGt"
      },
      "source": [
        "## 5. External Documentation"
      ],
      "id": "S0hjvgSsoRGt"
    },
    {
      "cell_type": "markdown",
      "metadata": {
        "id": "vUok8hb7oRGt"
      },
      "source": [
        "- Many libraries (like Pandas, NumPy, Matplotlib) have excellent online docs.\n",
        "- Example: [https://pandas.pydata.org/docs/](https://pandas.pydata.org/docs/)\n",
        "- You can Google: `pandas read_csv site:pandas.pydata.org`"
      ],
      "id": "vUok8hb7oRGt"
    },
    {
      "cell_type": "markdown",
      "metadata": {
        "id": "JhuvPfJnoRGt"
      },
      "source": [
        "✅ **Your Turn**: Look up the official documentation for Matplotlib’s `plt.plot` online."
      ],
      "id": "JhuvPfJnoRGt"
    },
    {
      "cell_type": "markdown",
      "metadata": {
        "id": "tGJwhPORoRGt"
      },
      "source": [
        "---\n",
        "### Summary\n",
        "- `?` gives quick documentation.\n",
        "- `??` shows source if available.\n",
        "- `help()` is Python’s built-in way.\n",
        "- Tab completion speeds up discovery.\n",
        "- External docs are your best friend for deeper dives.\n"
      ],
      "id": "tGJwhPORoRGt"
    }
  ],
  "metadata": {
    "kernelspec": {
      "display_name": "Python 3",
      "language": "python",
      "name": "python3"
    },
    "language_info": {
      "name": "python",
      "version": "3.x"
    },
    "colab": {
      "provenance": []
    }
  },
  "nbformat": 4,
  "nbformat_minor": 5
}