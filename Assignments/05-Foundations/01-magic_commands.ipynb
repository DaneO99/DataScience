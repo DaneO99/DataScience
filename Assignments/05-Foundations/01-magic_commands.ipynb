{
  "cells": [
    {
      "cell_type": "markdown",
      "metadata": {
        "id": "gJl1Rb65OUf2"
      },
      "source": [
        "# 🧙 Magic Commands Demo Notebook\n",
        "\n",
        "This notebook introduces some of the most useful **IPython magic commands** in Jupyter.  \n",
        "Run each cell and see what happens!"
      ],
      "id": "gJl1Rb65OUf2"
    },
    {
      "cell_type": "markdown",
      "metadata": {
        "id": "eIlRR6TEOUf5"
      },
      "source": [
        "## 1. Timing and Performance"
      ],
      "id": "eIlRR6TEOUf5"
    },
    {
      "cell_type": "code",
      "execution_count": null,
      "metadata": {
        "id": "v5Wyk1-tOUf6",
        "outputId": "44eb993d-48fc-4fc7-8489-b5e53cc62973"
      },
      "outputs": [
        {
          "name": "stdout",
          "output_type": "stream",
          "text": [
            "CPU times: user 9.27 ms, sys: 96 μs, total: 9.37 ms\n",
            "Wall time: 9.31 ms\n"
          ]
        },
        {
          "data": {
            "text/plain": [
              "499999500000"
            ]
          },
          "execution_count": 1,
          "metadata": {},
          "output_type": "execute_result"
        }
      ],
      "source": [
        "%time sum(range(1_000_000))"
      ],
      "id": "v5Wyk1-tOUf6"
    },
    {
      "cell_type": "code",
      "execution_count": null,
      "metadata": {
        "id": "FZ7ccoMKOUf7"
      },
      "outputs": [],
      "source": [
        "%timeit sum(range(1_000_000))"
      ],
      "id": "FZ7ccoMKOUf7"
    },
    {
      "cell_type": "code",
      "execution_count": null,
      "metadata": {
        "id": "S6JfI8J1OUf7"
      },
      "outputs": [],
      "source": [
        "%%time\n",
        "total = 0\n",
        "for i in range(1_000_000):\n",
        "    total += i"
      ],
      "id": "S6JfI8J1OUf7"
    },
    {
      "cell_type": "markdown",
      "metadata": {
        "id": "Edoy69K6OUf8"
      },
      "source": [
        "## 2. Working with Files"
      ],
      "id": "Edoy69K6OUf8"
    },
    {
      "cell_type": "code",
      "execution_count": null,
      "metadata": {
        "id": "hafEHGm0OUf8",
        "outputId": "5f73756f-efe6-4fc7-9e5f-0f9f7e37ce93"
      },
      "outputs": [
        {
          "data": {
            "text/plain": [
              "'/Users/griffin/Sync/__currentCourses/3603-Programming-for-Data-Science/Assignments/05-Foundations'"
            ]
          },
          "execution_count": 2,
          "metadata": {},
          "output_type": "execute_result"
        }
      ],
      "source": [
        "%pwd"
      ],
      "id": "hafEHGm0OUf8"
    },
    {
      "cell_type": "code",
      "execution_count": null,
      "metadata": {
        "id": "mJNaZ7s3OUf8",
        "outputId": "bcc220fd-6ab4-4ec8-8ffe-cdbce1a7920e"
      },
      "outputs": [
        {
          "name": "stdout",
          "output_type": "stream",
          "text": [
            "magic_commands.ipynb\n"
          ]
        }
      ],
      "source": [
        "%ls"
      ],
      "id": "mJNaZ7s3OUf8"
    },
    {
      "cell_type": "code",
      "execution_count": null,
      "metadata": {
        "id": "h6lKyPEoOUf8",
        "outputId": "421c8031-c849-429e-ea98-3c46bb3650e9"
      },
      "outputs": [
        {
          "name": "stdout",
          "output_type": "stream",
          "text": [
            "/Users/griffin/Sync/__currentCourses/3603-Programming-for-Data-Science/Assignments\n"
          ]
        },
        {
          "data": {
            "text/plain": [
              "'/Users/griffin/Sync/__currentCourses/3603-Programming-for-Data-Science/Assignments'"
            ]
          },
          "execution_count": 4,
          "metadata": {},
          "output_type": "execute_result"
        }
      ],
      "source": [
        "%cd ..\n",
        "%pwd"
      ],
      "id": "h6lKyPEoOUf8"
    },
    {
      "cell_type": "markdown",
      "metadata": {
        "id": "vFQZmQxSOUf9"
      },
      "source": [
        "## 3. Variables in Memory"
      ],
      "id": "vFQZmQxSOUf9"
    },
    {
      "cell_type": "code",
      "execution_count": null,
      "metadata": {
        "id": "xFW0VlkrOUf9",
        "outputId": "1af5bd06-4dec-462d-b542-278e29aec33f"
      },
      "outputs": [
        {
          "name": "stdout",
          "output_type": "stream",
          "text": [
            "a\t b\t c\t \n"
          ]
        }
      ],
      "source": [
        "a = 42\n",
        "b = [1, 2, 3]\n",
        "c = {\"name\": \"Graylian\"}\n",
        "\n",
        "%who"
      ],
      "id": "xFW0VlkrOUf9"
    },
    {
      "cell_type": "code",
      "execution_count": null,
      "metadata": {
        "id": "8iX9mLIdOUf9",
        "outputId": "67dbf508-aa38-4a31-905f-5abcfa945143"
      },
      "outputs": [
        {
          "name": "stdout",
          "output_type": "stream",
          "text": [
            "Variable   Type    Data/Info\n",
            "----------------------------\n",
            "a          int     42\n",
            "b          list    n=3\n",
            "c          dict    n=1\n"
          ]
        }
      ],
      "source": [
        "%whos"
      ],
      "id": "8iX9mLIdOUf9"
    },
    {
      "cell_type": "code",
      "execution_count": null,
      "metadata": {
        "id": "beYe_A_mOUf-"
      },
      "outputs": [],
      "source": [
        "# %reset"
      ],
      "id": "beYe_A_mOUf-"
    },
    {
      "cell_type": "markdown",
      "metadata": {
        "id": "Gh3bnPMWOUf-"
      },
      "source": [
        "## 4. Debugging and Introspection"
      ],
      "id": "Gh3bnPMWOUf-"
    },
    {
      "cell_type": "code",
      "execution_count": null,
      "metadata": {
        "id": "wib4cQruOUf-",
        "outputId": "831da2b4-5937-4a98-9147-1a3dff42b191"
      },
      "outputs": [
        {
          "ename": "ZeroDivisionError",
          "evalue": "division by zero",
          "output_type": "error",
          "traceback": [
            "\u001b[31m---------------------------------------------------------------------------\u001b[39m",
            "\u001b[31mZeroDivisionError\u001b[39m                         Traceback (most recent call last)",
            "\u001b[36mCell\u001b[39m\u001b[36m \u001b[39m\u001b[32mIn[7]\u001b[39m\u001b[32m, line 1\u001b[39m\n\u001b[32m----> \u001b[39m\u001b[32m1\u001b[39m \u001b[32;43m1\u001b[39;49m\u001b[43m \u001b[49m\u001b[43m/\u001b[49m\u001b[43m \u001b[49m\u001b[32;43m0\u001b[39;49m\n",
            "\u001b[31mZeroDivisionError\u001b[39m: division by zero"
          ]
        }
      ],
      "source": [
        "1 / 0"
      ],
      "id": "wib4cQruOUf-"
    },
    {
      "cell_type": "code",
      "execution_count": null,
      "metadata": {
        "id": "V3Sa_HCjOUf-",
        "outputId": "b7e3843f-da95-484f-8b49-c783f0a23937"
      },
      "outputs": [
        {
          "name": "stdout",
          "output_type": "stream",
          "text": [
            "> \u001b[32m/var/folders/g5/h6gv0mcx1sj21bl9lkvg3ytc0000gn/T/ipykernel_9538/1455669704.py\u001b[39m(\u001b[92m1\u001b[39m)\u001b[36m<module>\u001b[39m\u001b[34m()\u001b[39m\n",
            "\u001b[32m----> 1\u001b[39m \u001b[32m1\u001b[39m / \u001b[32m0\u001b[39m\n",
            "\n"
          ]
        }
      ],
      "source": [
        "%debug"
      ],
      "id": "V3Sa_HCjOUf-"
    },
    {
      "cell_type": "markdown",
      "metadata": {
        "id": "Tdxkjj_mOUf-"
      },
      "source": [
        "## 5. Writing and Running Files"
      ],
      "id": "Tdxkjj_mOUf-"
    },
    {
      "cell_type": "code",
      "execution_count": null,
      "metadata": {
        "id": "P8QgJo6NOUf-"
      },
      "outputs": [],
      "source": [
        "%%writefile hello.py\n",
        "print(\"Hello from a file!\")"
      ],
      "id": "P8QgJo6NOUf-"
    },
    {
      "cell_type": "code",
      "execution_count": null,
      "metadata": {
        "id": "KKyQ8NbiOUf_"
      },
      "outputs": [],
      "source": [
        "%run hello.py"
      ],
      "id": "KKyQ8NbiOUf_"
    },
    {
      "cell_type": "markdown",
      "metadata": {
        "id": "z-fXIAlbOUf_"
      },
      "source": [
        "## 6. Output and Formatting"
      ],
      "id": "z-fXIAlbOUf_"
    },
    {
      "cell_type": "code",
      "execution_count": null,
      "metadata": {
        "id": "Y9ynP0ITOUf_"
      },
      "outputs": [],
      "source": [
        "%%capture cap\n",
        "print(\"This will not display right away\")\n",
        "\n",
        "cap.show()"
      ],
      "id": "Y9ynP0ITOUf_"
    },
    {
      "cell_type": "code",
      "execution_count": null,
      "metadata": {
        "id": "6IG_JfEROUf_"
      },
      "outputs": [],
      "source": [
        "%%html\n",
        "<h1 style=\"color: maroon\">Magics are Magical ✨</h1>"
      ],
      "id": "6IG_JfEROUf_"
    },
    {
      "cell_type": "code",
      "execution_count": null,
      "metadata": {
        "id": "Uks8BSlzOUf_"
      },
      "outputs": [],
      "source": [
        "%%markdown\n",
        "# This is a Markdown cell inside code!\n",
        "**Bold text** and *italic* still work."
      ],
      "id": "Uks8BSlzOUf_"
    },
    {
      "cell_type": "markdown",
      "metadata": {
        "id": "lgU9sspiOUf_"
      },
      "source": [
        "## 7. Discover More"
      ],
      "id": "lgU9sspiOUf_"
    },
    {
      "cell_type": "code",
      "execution_count": null,
      "metadata": {
        "id": "jt3E0jgqOUf_"
      },
      "outputs": [],
      "source": [
        "%lsmagic"
      ],
      "id": "jt3E0jgqOUf_"
    },
    {
      "cell_type": "code",
      "execution_count": null,
      "metadata": {
        "id": "Ex1cBriWOUf_"
      },
      "outputs": [],
      "source": [
        "%timeit?"
      ],
      "id": "Ex1cBriWOUf_"
    },
    {
      "cell_type": "markdown",
      "metadata": {
        "id": "XQ3uhdZ4OUgA"
      },
      "source": [
        "✅ **Try It Yourself**:  \n",
        "- Use `%timeit` to compare a list comprehension `[x**2 for x in range(1000)]` vs a generator `(x**2 for x in range(1000))`.  \n",
        "- Use `%whos` after defining some variables to see their types.  \n",
        "- Use `%%html` to make your own banner."
      ],
      "id": "XQ3uhdZ4OUgA"
    },
    {
      "cell_type": "code",
      "source": [
        "%timeit [x**2 for x in range(1000)]\n",
        "%timeit (x**2 for x in range(1000))"
      ],
      "metadata": {
        "id": "de4YwCU_XR_P",
        "outputId": "f273ca24-c456-4f3d-bd07-47796572468c",
        "colab": {
          "base_uri": "https://localhost:8080/"
        }
      },
      "id": "de4YwCU_XR_P",
      "execution_count": 8,
      "outputs": [
        {
          "output_type": "stream",
          "name": "stdout",
          "text": [
            "71.2 µs ± 1.29 µs per loop (mean ± std. dev. of 7 runs, 10000 loops each)\n",
            "281 ns ± 6.59 ns per loop (mean ± std. dev. of 7 runs, 1000000 loops each)\n"
          ]
        }
      ]
    },
    {
      "cell_type": "code",
      "source": [
        "a = 7\n",
        "b = [9,1,4]\n",
        "c = {'name' : 'Dane Fitzgerald'}\n",
        "%whos"
      ],
      "metadata": {
        "id": "zZbR4SrEX6Cb",
        "outputId": "5625cc1c-0719-42f5-ec52-c205e856c2a7",
        "colab": {
          "base_uri": "https://localhost:8080/"
        }
      },
      "id": "zZbR4SrEX6Cb",
      "execution_count": 9,
      "outputs": [
        {
          "output_type": "stream",
          "name": "stdout",
          "text": [
            "Variable   Type    Data/Info\n",
            "----------------------------\n",
            "a          int     7\n",
            "b          list    n=3\n",
            "c          dict    n=1\n",
            "i          int     999999\n",
            "total      int     499999500000\n"
          ]
        }
      ]
    },
    {
      "cell_type": "code",
      "source": [
        "%%html\n",
        "<h1 style =\"color : lightblue\"> Html in Python </hl>"
      ],
      "metadata": {
        "id": "Lv8jqg76YRCG",
        "outputId": "e64f3a03-b8f1-4ada-8a72-3a4f4ef2b78b",
        "colab": {
          "base_uri": "https://localhost:8080/",
          "height": 74
        }
      },
      "id": "Lv8jqg76YRCG",
      "execution_count": 11,
      "outputs": [
        {
          "output_type": "display_data",
          "data": {
            "text/plain": [
              "<IPython.core.display.HTML object>"
            ],
            "text/html": [
              "<h1 style =\"color : lightblue\"> Html in Python </hl>\n"
            ]
          },
          "metadata": {}
        }
      ]
    }
  ],
  "metadata": {
    "kernelspec": {
      "display_name": "env",
      "language": "python",
      "name": "python3"
    },
    "language_info": {
      "codemirror_mode": {
        "name": "ipython",
        "version": 3
      },
      "file_extension": ".py",
      "mimetype": "text/x-python",
      "name": "python",
      "nbconvert_exporter": "python",
      "pygments_lexer": "ipython3",
      "version": "3.13.7"
    },
    "colab": {
      "provenance": []
    }
  },
  "nbformat": 4,
  "nbformat_minor": 5
}