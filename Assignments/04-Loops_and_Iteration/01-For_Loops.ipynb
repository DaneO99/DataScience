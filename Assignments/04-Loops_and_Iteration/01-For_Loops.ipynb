{
  "cells": [
    {
      "cell_type": "markdown",
      "id": "813b2cf5",
      "metadata": {
        "id": "813b2cf5"
      },
      "source": [
        "# 📘 01 - For Loops\n",
        "\n",
        "Learn how to use `for` loops to iterate over sequences."
      ]
    },
    {
      "cell_type": "markdown",
      "id": "f6afd4b0",
      "metadata": {
        "id": "f6afd4b0"
      },
      "source": [
        "## ✅ Learning Goals\n",
        "- Use `for` with lists, strings, and `range()`\n",
        "- Understand loop variables and block structure"
      ]
    },
    {
      "cell_type": "code",
      "execution_count": null,
      "id": "16d9ab8e",
      "metadata": {
        "id": "16d9ab8e"
      },
      "outputs": [],
      "source": [
        "# 🔁 Loop over a list\n",
        "fruits = ['apple', 'banana', 'cherry']\n",
        "for fruit in fruits:\n",
        "    print(fruit)"
      ]
    },
    {
      "cell_type": "code",
      "execution_count": null,
      "id": "141bbd6b",
      "metadata": {
        "id": "141bbd6b"
      },
      "outputs": [],
      "source": [
        "# 🔁 Loop over characters in a string\n",
        "word = 'hello'\n",
        "for char in word:\n",
        "    print(char)"
      ]
    },
    {
      "cell_type": "code",
      "execution_count": null,
      "id": "76012a44",
      "metadata": {
        "id": "76012a44"
      },
      "outputs": [],
      "source": [
        "# 🔁 Using range()\n",
        "for i in range(5):\n",
        "    print(i)"
      ]
    },
    {
      "cell_type": "code",
      "execution_count": null,
      "id": "43070de7",
      "metadata": {
        "id": "43070de7"
      },
      "outputs": [],
      "source": [
        "# ➕ Loop with math\n",
        "for i in range(1, 6):\n",
        "    print(f'{i} squared is', i ** 2)"
      ]
    },
    {
      "cell_type": "markdown",
      "id": "7f3e0f91",
      "metadata": {
        "id": "7f3e0f91"
      },
      "source": [
        "### ✏️ Your Turn\n",
        "Loop over a list of 3 favorite movies and print them in all caps."
      ]
    },
    {
      "cell_type": "code",
      "source": [
        "movies = ['13 hours in Benghazi' , 'F1' , 'The Accountant 2']\n",
        "for movie in movies:\n",
        "  print(movie.upper())"
      ],
      "metadata": {
        "id": "he0odqAxMz5r",
        "outputId": "d9605369-00e3-4f45-f079-672b223fce86",
        "colab": {
          "base_uri": "https://localhost:8080/"
        }
      },
      "id": "he0odqAxMz5r",
      "execution_count": 1,
      "outputs": [
        {
          "output_type": "stream",
          "name": "stdout",
          "text": [
            "13 HOURS IN BENGHAZI\n",
            "F1\n",
            "THE ACCOUNTANT 2\n"
          ]
        }
      ]
    }
  ],
  "metadata": {
    "colab": {
      "provenance": []
    },
    "language_info": {
      "name": "python"
    },
    "kernelspec": {
      "name": "python3",
      "display_name": "Python 3"
    }
  },
  "nbformat": 4,
  "nbformat_minor": 5
}