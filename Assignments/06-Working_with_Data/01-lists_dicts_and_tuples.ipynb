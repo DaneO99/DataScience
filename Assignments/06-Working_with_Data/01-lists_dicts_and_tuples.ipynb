{
  "cells": [
    {
      "cell_type": "markdown",
      "metadata": {
        "id": "cCSjQE5utU1-"
      },
      "source": [
        "# 🧠 Notebook 01: Lists, Dicts, Tuples, and Sets (Oh My!)\n",
        "\n",
        "Welcome, data tamer. Before we dance with DataFrames and juggle Series, we must revisit the sacred scrolls of Python's core data structures.\n",
        "\n",
        "In this notebook, you will:\n",
        "- Recap the mighty `list`, `dict`, `tuple`, and `set`\n",
        "- Learn what makes each special (besides being annoying to explain at parties)\n",
        "- Practice slicing, accessing, and modifying them\n",
        "- Build up intuition for working with structured data\n",
        "\n",
        "---"
      ]
    },
    {
      "cell_type": "markdown",
      "metadata": {
        "id": "lTEwQaAEtU1-"
      },
      "source": [
        "## 🧺 Lists\n",
        "`list`: Ordered, mutable, and basically the cargo pants of Python."
      ]
    },
    {
      "cell_type": "code",
      "execution_count": null,
      "metadata": {
        "id": "1T5IMVq4tU1_"
      },
      "outputs": [],
      "source": [
        "fruits = [\"apple\", \"banana\", \"cherry\", \"dragonfruit\"]\n",
        "print(\"First fruit:\", fruits[0])\n",
        "print(\"Last fruit:\", fruits[-1])\n",
        "\n",
        "fruits.append(\"elderberry\")\n",
        "print(\"Updated list:\", fruits)"
      ]
    },
    {
      "cell_type": "markdown",
      "metadata": {
        "id": "286TybeqtU1_"
      },
      "source": [
        "## 🔐 Tuples\n",
        "`tuple`: Like lists, but committed — they don’t change. Perfect for fixed data."
      ]
    },
    {
      "cell_type": "code",
      "execution_count": null,
      "metadata": {
        "id": "26yMl1bjtU1_"
      },
      "outputs": [],
      "source": [
        "coordinates = (34.05, -118.25)  # Latitude, Longitude\n",
        "print(\"Coordinates:\", coordinates)\n",
        "\n",
        "# Uncomment this to see Python throw a tantrum\n",
        "# coordinates[0] = 0"
      ]
    },
    {
      "cell_type": "markdown",
      "metadata": {
        "id": "0xMBw3a0tU1_"
      },
      "source": [
        "## 📦 Dictionaries\n",
        "`dict`: Key-value pairs. Like JSON, but with fewer quotation marks and more sarcasm."
      ]
    },
    {
      "cell_type": "code",
      "execution_count": null,
      "metadata": {
        "id": "YsKXD_fHtU1_"
      },
      "outputs": [],
      "source": [
        "student = {\n",
        "    \"name\": \"Alice\",\n",
        "    \"GPA\": 3.9,\n",
        "    \"major\": \"Data Science\"\n",
        "}\n",
        "\n",
        "print(\"Student name:\", student[\"name\"])\n",
        "print(\"GPA using .get():\", student.get(\"GPA\"))\n",
        "\n",
        "student[\"minor\"] = \"Philosophy\"\n",
        "print(\"Updated dictionary:\", student)"
      ]
    },
    {
      "cell_type": "markdown",
      "metadata": {
        "id": "TQKzj7W7tU1_"
      },
      "source": [
        "## 🎯 Sets\n",
        "`set`: Unordered, unique values only. Great for removing duplicates or doing cool mathy stuff."
      ]
    },
    {
      "cell_type": "code",
      "execution_count": null,
      "metadata": {
        "id": "3vOZs2NNtU1_"
      },
      "outputs": [],
      "source": [
        "courses = {\"CS101\", \"CS102\", \"CS103\", \"CS101\"}  # Duplicate ignored\n",
        "print(\"Courses:\", courses)\n",
        "\n",
        "print(\"Is CS102 in the set?\", \"CS102\" in courses)\n",
        "\n",
        "courses.add(\"CS104\")\n",
        "courses.discard(\"CS101\")\n",
        "print(\"Modified courses:\", courses)"
      ]
    },
    {
      "cell_type": "markdown",
      "metadata": {
        "id": "snkh-JuctU1_"
      },
      "source": [
        "---\n",
        "## 🧰 Your Turn\n",
        "\n",
        "1. Create a list of your top 5 favorite foods. Print the last item using a negative index.\n",
        "2. Create a dictionary that maps student names to GPA (be kind). Add a new student.\n",
        "3. Make a tuple of the days of the week. Try to change one. Document what happens.\n",
        "4. Create a `set` of course names. Add a duplicate. Reflect on how sets feel about duplicates.\n",
        "\n",
        "🎯 **Bonus**: Use a list comprehension to build a list of all squares from 1–20."
      ]
    },
    {
      "cell_type": "code",
      "execution_count": 5,
      "metadata": {
        "id": "y5Of4-XitU1_",
        "outputId": "2361a930-b407-48a8-b9e4-41eb25baedea",
        "colab": {
          "base_uri": "https://localhost:8080/"
        }
      },
      "outputs": [
        {
          "output_type": "stream",
          "name": "stdout",
          "text": [
            "Step Brothers\n",
            "Dane 3.0\n",
            "Mark 2.4\n",
            "Steve 4.0\n",
            "Carl 2.0\n",
            "('Monday', 'Tuesday', 'Wednesday', 'Thursday', 'Friday', 'Saturday', 'Sunday')\n",
            "{'Computer Science', 'Math', 'History'}\n"
          ]
        }
      ],
      "source": [
        "# Your brilliant code goes here!\n",
        "movies = ['13 Hours in Benghazi', 'Hacksaw Ridge' , 'F1' , 'Warfare' , 'Step Brothers']\n",
        "print(movies[-1])\n",
        "students = {'Dane' : 3.0, 'Mark' : 2.4, 'Steve' : 4.0}\n",
        "students.update({'Carl' : 2.0})\n",
        "for key,value in students.items():\n",
        "  print(key,value)\n",
        "days = ('Monday' , 'Tuesday', 'Wednesday', 'Thursday', 'Friday' , 'Saturday', 'Sunday')\n",
        "#cant change tuples they are immutable\n",
        "print(days)\n",
        "courses = {'Math', 'History', 'Computer Science'}\n",
        "courses.add('Math')\n",
        "print(courses)\n"
      ]
    },
    {
      "cell_type": "markdown",
      "metadata": {
        "id": "WiVBjUUHtU1_"
      },
      "source": [
        "---\n",
        "## 🧼 Why This Matters\n",
        "\n",
        "Before we start feeding `.csv` files into Pandas like a malfunctioning vending machine, we need to truly *feel* how data is structured. These built-in types help shape, store, and manipulate everything we’ll touch from here on.\n",
        "\n",
        "Next up? Pandas `Series` and `DataFrames`. Buckle up."
      ]
    }
  ],
  "metadata": {
    "kernelspec": {
      "display_name": "Python 3",
      "language": "python",
      "name": "python3"
    },
    "language_info": {
      "name": "python",
      "version": ""
    },
    "colab": {
      "provenance": []
    }
  },
  "nbformat": 4,
  "nbformat_minor": 0
}