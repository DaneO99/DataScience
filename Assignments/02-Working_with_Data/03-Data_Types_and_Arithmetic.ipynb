{
  "cells": [
    {
      "cell_type": "markdown",
      "metadata": {
        "id": "view-in-github",
        "colab_type": "text"
      },
      "source": [
        "<a href=\"https://colab.research.google.com/github/DaneO99/DataScience/blob/master/Assignments/02-Working_with_Data/03-Data_Types_and_Arithmetic.ipynb\" target=\"_parent\"><img src=\"https://colab.research.google.com/assets/colab-badge.svg\" alt=\"Open In Colab\"/></a>"
      ]
    },
    {
      "cell_type": "markdown",
      "id": "4b15b08b",
      "metadata": {
        "id": "4b15b08b"
      },
      "source": [
        "# 📘 03 - Data Types and Arithmetic\n",
        "\n",
        "Explore Python basics like variables, data types, and arithmetic operations."
      ]
    },
    {
      "cell_type": "markdown",
      "id": "fe930277",
      "metadata": {
        "id": "fe930277"
      },
      "source": [
        "## ✅ Learning Goals\n",
        "- Understand Python data types\n",
        "- Use variables and print statements\n",
        "- Perform basic arithmetic"
      ]
    },
    {
      "cell_type": "code",
      "execution_count": null,
      "id": "8e873f5b",
      "metadata": {
        "id": "8e873f5b"
      },
      "outputs": [],
      "source": [
        "# 🧠 Variables and Types\n",
        "x = 10\n",
        "y = 3.5\n",
        "z = 'hello'\n",
        "print(type(x), type(y), type(z))"
      ]
    },
    {
      "cell_type": "code",
      "execution_count": null,
      "id": "e90e2be4",
      "metadata": {
        "id": "e90e2be4"
      },
      "outputs": [],
      "source": [
        "# ➕ Arithmetic Operations\n",
        "print('Add:', x + y)\n",
        "print('Divide:', x / y)\n",
        "print('Floor Divide:', x // y)\n",
        "print('Exponent:', x ** 2)"
      ]
    },
    {
      "cell_type": "markdown",
      "id": "7e233e07",
      "metadata": {
        "id": "7e233e07"
      },
      "source": [
        "## ✏️ Try It Yourself\n",
        "- Create your own variables\n",
        "- Try combining numbers and strings\n",
        "- Use `input()` to interact"
      ]
    },
    {
      "cell_type": "code",
      "execution_count": null,
      "id": "42b3fc61",
      "metadata": {
        "id": "42b3fc61"
      },
      "outputs": [],
      "source": [
        "# Your code here\n",
        "name = input('What is your name? ')\n",
        "print('Welcome,', name)"
      ]
    },
    {
      "cell_type": "markdown",
      "id": "069d6eba",
      "metadata": {
        "id": "069d6eba"
      },
      "source": [
        "## 📤 Submit\n",
        "Make sure your name is at the top in a Markdown cell.\n",
        "Submit via D2L or Colab link."
      ]
    },
    {
      "cell_type": "code",
      "source": [
        "#Dane Fitzgerald\n",
        "name = input(\"What is your name: \")\n",
        "print(\"Welcome\" , name)"
      ],
      "metadata": {
        "id": "AautFAPY1ZHG",
        "outputId": "460ce9d5-437b-4d44-d01f-5a86059ccc15",
        "colab": {
          "base_uri": "https://localhost:8080/"
        }
      },
      "id": "AautFAPY1ZHG",
      "execution_count": 1,
      "outputs": [
        {
          "output_type": "stream",
          "name": "stdout",
          "text": [
            "What is your name: Dane Fitzgerald\n",
            "Welcome Dane Fitzgerald\n"
          ]
        }
      ]
    },
    {
      "cell_type": "code",
      "source": [
        "x = float(input(\"Enter the first value: \"))\n",
        "y = float(input(\"Enter the second value: \"))\n",
        "print('Add: ', x + y)\n",
        "print('Divide: ', x / y)\n",
        "print('Floor Divide: ', x // y)\n",
        "print('Exponent: ', x ** 2)\n",
        "print(\"Multiply: \", x * y )\n",
        "print('Subtract: ' , x - y)"
      ],
      "metadata": {
        "id": "hdNp-Xr01s6W",
        "outputId": "b2987e3f-a4c3-410a-fa54-f2e0f2bdbd02",
        "colab": {
          "base_uri": "https://localhost:8080/"
        }
      },
      "id": "hdNp-Xr01s6W",
      "execution_count": 2,
      "outputs": [
        {
          "output_type": "stream",
          "name": "stdout",
          "text": [
            "Enter the first value25.2\n",
            "Enter the second value20\n",
            "Add:  45.2\n",
            "Divide:  1.26\n",
            "Floor Divide:  1.0\n",
            "Exponent:  635.04\n",
            "Multiply:  504.0\n",
            "Subtract:  5.199999999999999\n"
          ]
        }
      ]
    }
  ],
  "metadata": {
    "colab": {
      "provenance": [],
      "include_colab_link": true
    },
    "language_info": {
      "name": "python"
    },
    "kernelspec": {
      "name": "python3",
      "display_name": "Python 3"
    }
  },
  "nbformat": 4,
  "nbformat_minor": 5
}