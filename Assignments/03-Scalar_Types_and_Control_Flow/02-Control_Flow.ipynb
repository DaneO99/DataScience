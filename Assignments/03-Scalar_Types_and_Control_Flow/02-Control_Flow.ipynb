{
  "cells": [
    {
      "cell_type": "markdown",
      "id": "d691fc24",
      "metadata": {
        "id": "d691fc24"
      },
      "source": [
        "# 📘 02 - Control Flow\n",
        "\n",
        "Learn how to use conditional logic in Python."
      ]
    },
    {
      "cell_type": "markdown",
      "id": "07e43ba3",
      "metadata": {
        "id": "07e43ba3"
      },
      "source": [
        "## ✅ Learning Goals\n",
        "- Write `if`, `elif`, `else` statements\n",
        "- Understand truthy/falsy values\n",
        "- Combine conditions using `and`, `or`, `not`"
      ]
    },
    {
      "cell_type": "code",
      "execution_count": null,
      "id": "3c8cac6d",
      "metadata": {
        "id": "3c8cac6d"
      },
      "outputs": [],
      "source": [
        "# 🔧 Basic example\n",
        "age = 20\n",
        "if age >= 18:\n",
        "    print('You are an adult.')\n",
        "else:\n",
        "    print('You are a minor.')"
      ]
    },
    {
      "cell_type": "markdown",
      "id": "ae0d2437",
      "metadata": {
        "id": "ae0d2437"
      },
      "source": [
        "## 🔀 Multiple Branches"
      ]
    },
    {
      "cell_type": "code",
      "execution_count": null,
      "id": "e2527038",
      "metadata": {
        "id": "e2527038"
      },
      "outputs": [],
      "source": [
        "temp = 72\n",
        "if temp > 90:\n",
        "    print('Too hot!')\n",
        "elif temp < 60:\n",
        "    print('Too cold!')\n",
        "else:\n",
        "    print('Just right.')"
      ]
    },
    {
      "cell_type": "markdown",
      "id": "b2aa7088",
      "metadata": {
        "id": "b2aa7088"
      },
      "source": [
        "### ✏️ Your Turn\n",
        "Use `input()` to ask a user their grade and print a message based on value."
      ]
    },
    {
      "cell_type": "code",
      "execution_count": 5,
      "id": "f096a974",
      "metadata": {
        "id": "f096a974",
        "outputId": "9049b1ca-a8ce-4c69-fbcb-5175e40ad484",
        "colab": {
          "base_uri": "https://localhost:8080/"
        }
      },
      "outputs": [
        {
          "output_type": "stream",
          "name": "stdout",
          "text": [
            "Enter your grade: 90\n",
            "You got a A in the class\n"
          ]
        }
      ],
      "source": [
        "grade = float(input(\"Enter your grade: \"))\n",
        "\n",
        "if grade <= 59:\n",
        "  print(\"You failed the class\")\n",
        "elif grade >= 60 and grade <= 69:\n",
        "  print(\"You got a D in the class\")\n",
        "elif grade >= 70 and grade <= 79:\n",
        "  print(\"You got a C in the class\")\n",
        "elif grade >= 80 and grade <= 89:\n",
        "  print(\"You got a B in the class\")\n",
        "elif grade >= 90 and grade <=100:\n",
        "  print(\"You got a A in the class\")\n",
        "else:\n",
        "  print(\"Grade too high\")"
      ]
    }
  ],
  "metadata": {
    "colab": {
      "provenance": []
    },
    "language_info": {
      "name": "python"
    },
    "kernelspec": {
      "name": "python3",
      "display_name": "Python 3"
    }
  },
  "nbformat": 4,
  "nbformat_minor": 5
}